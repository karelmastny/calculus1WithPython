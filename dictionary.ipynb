{
  "nbformat": 4,
  "nbformat_minor": 0,
  "metadata": {
    "colab": {
      "provenance": [],
      "authorship_tag": "ABX9TyNDkkBAJKUfZgP4hexufXgZ",
      "include_colab_link": true
    },
    "kernelspec": {
      "name": "python3",
      "display_name": "Python 3"
    },
    "language_info": {
      "name": "python"
    }
  },
  "cells": [
    {
      "cell_type": "markdown",
      "metadata": {
        "id": "view-in-github",
        "colab_type": "text"
      },
      "source": [
        "<a href=\"https://colab.research.google.com/github/karelmastny/calculus1WithPython/blob/main/dictionary.ipynb\" target=\"_parent\"><img src=\"https://colab.research.google.com/assets/colab-badge.svg\" alt=\"Open In Colab\"/></a>"
      ]
    },
    {
      "cell_type": "code",
      "execution_count": null,
      "metadata": {
        "colab": {
          "base_uri": "https://localhost:8080/"
        },
        "id": "znHuVoXx1e56",
        "outputId": "fe3a44a4-7b35-490f-8755-e5b2839286fb"
      },
      "outputs": [
        {
          "output_type": "execute_result",
          "data": {
            "text/plain": [
              "{}"
            ]
          },
          "metadata": {},
          "execution_count": 3
        }
      ],
      "source": [
        "# dictionary: key/value\n",
        "\n",
        "D =dict()\n",
        "D"
      ]
    },
    {
      "cell_type": "code",
      "source": [
        "#  key        value\n",
        "D['name'] = 'Karel'\n",
        "D['ageRange'] = [20,50]\n",
        "\n",
        "D\n"
      ],
      "metadata": {
        "colab": {
          "base_uri": "https://localhost:8080/"
        },
        "id": "4NUvXRkM1r8D",
        "outputId": "a879b20c-f505-4fb3-8756-875b254aecc9"
      },
      "execution_count": null,
      "outputs": [
        {
          "output_type": "execute_result",
          "data": {
            "text/plain": [
              "{'name': 'Karel', 'ageRange': [20, 50]}"
            ]
          },
          "metadata": {},
          "execution_count": 7
        }
      ]
    },
    {
      "cell_type": "code",
      "source": [
        "E = {'name': 'Karel', 'ageRange': [20, 50], 'favColor':'purple'}\n",
        "\n",
        "E"
      ],
      "metadata": {
        "colab": {
          "base_uri": "https://localhost:8080/"
        },
        "id": "UY5j-jlQ2PX-",
        "outputId": "37a52f5d-29db-4a6f-e269-739e3f861c6b"
      },
      "execution_count": null,
      "outputs": [
        {
          "output_type": "execute_result",
          "data": {
            "text/plain": [
              "{'name': 'Karel', 'ageRange': [20, 50], 'favColor': 'purple'}"
            ]
          },
          "metadata": {},
          "execution_count": 10
        }
      ]
    },
    {
      "cell_type": "code",
      "source": [
        "D['name']\n"
      ],
      "metadata": {
        "colab": {
          "base_uri": "https://localhost:8080/",
          "height": 35
        },
        "id": "S03Zk8Wd2aZv",
        "outputId": "206abbbd-2f58-4751-95ea-b30688d2745c"
      },
      "execution_count": null,
      "outputs": [
        {
          "output_type": "execute_result",
          "data": {
            "text/plain": [
              "'Karel'"
            ],
            "application/vnd.google.colaboratory.intrinsic+json": {
              "type": "string"
            }
          },
          "metadata": {},
          "execution_count": 12
        }
      ]
    },
    {
      "cell_type": "code",
      "source": [
        "E.keys()"
      ],
      "metadata": {
        "colab": {
          "base_uri": "https://localhost:8080/"
        },
        "id": "GsvMp2bt2hm6",
        "outputId": "084696de-fde8-41a1-9508-34d28386e015"
      },
      "execution_count": null,
      "outputs": [
        {
          "output_type": "execute_result",
          "data": {
            "text/plain": [
              "dict_keys(['name', 'ageRange', 'favColor'])"
            ]
          },
          "metadata": {},
          "execution_count": 14
        }
      ]
    },
    {
      "cell_type": "code",
      "source": [
        "E.values()"
      ],
      "metadata": {
        "colab": {
          "base_uri": "https://localhost:8080/"
        },
        "id": "Hfsm2v5X2m-w",
        "outputId": "79f9c6d5-435d-412d-a77e-729e4b2f3325"
      },
      "execution_count": null,
      "outputs": [
        {
          "output_type": "execute_result",
          "data": {
            "text/plain": [
              "dict_values(['Karel', [20, 50], 'purple'])"
            ]
          },
          "metadata": {},
          "execution_count": 16
        }
      ]
    },
    {
      "cell_type": "code",
      "source": [
        "E.items()\n"
      ],
      "metadata": {
        "colab": {
          "base_uri": "https://localhost:8080/"
        },
        "id": "u60VAkv920yw",
        "outputId": "0595bde9-99d2-466d-ee81-39689d6e4565"
      },
      "execution_count": null,
      "outputs": [
        {
          "output_type": "execute_result",
          "data": {
            "text/plain": [
              "dict_items([('name', 'Karel'), ('ageRange', [20, 50]), ('favColor', 'purple')])"
            ]
          },
          "metadata": {},
          "execution_count": 19
        }
      ]
    },
    {
      "cell_type": "code",
      "source": [
        "# exercise\n",
        "# input 2 no, distionary\n",
        "\n",
        "firstNum = float(input('firstNum = '))\n",
        "secondNum = float(input('secondNum = '))\n",
        "product = firstNum*secondNum\n",
        "\n",
        "D = {'firstNum':firstNum, 'secondNum':secondNum, 'product':product}\n",
        "D"
      ],
      "metadata": {
        "colab": {
          "base_uri": "https://localhost:8080/"
        },
        "id": "soSSqpmi3G4s",
        "outputId": "7d0ebd7d-846f-4e8f-cdd8-3caa914012af"
      },
      "execution_count": null,
      "outputs": [
        {
          "name": "stdout",
          "output_type": "stream",
          "text": [
            "firstNum =4\n",
            "secondNum =3\n"
          ]
        },
        {
          "output_type": "execute_result",
          "data": {
            "text/plain": [
              "{'firstNum': 4.0, 'secondNum': 3.0, 'product': 12.0}"
            ]
          },
          "metadata": {},
          "execution_count": 21
        }
      ]
    }
  ]
}