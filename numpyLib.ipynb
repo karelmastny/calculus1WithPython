{
  "nbformat": 4,
  "nbformat_minor": 0,
  "metadata": {
    "colab": {
      "provenance": [],
      "authorship_tag": "ABX9TyPQK3XxeUBoSQhGiX/FtBWo",
      "include_colab_link": true
    },
    "kernelspec": {
      "name": "python3",
      "display_name": "Python 3"
    },
    "language_info": {
      "name": "python"
    }
  },
  "cells": [
    {
      "cell_type": "markdown",
      "metadata": {
        "id": "view-in-github",
        "colab_type": "text"
      },
      "source": [
        "<a href=\"https://colab.research.google.com/github/karelmastny/calculus1WithPython/blob/main/numpyLib.ipynb\" target=\"_parent\"><img src=\"https://colab.research.google.com/assets/colab-badge.svg\" alt=\"Open In Colab\"/></a>"
      ]
    },
    {
      "cell_type": "code",
      "execution_count": 2,
      "metadata": {
        "id": "0DypeO97DPju",
        "colab": {
          "base_uri": "https://localhost:8080/"
        },
        "outputId": "7a5a5918-cbfd-4627-9d88-9999bb432454"
      },
      "outputs": [
        {
          "output_type": "execute_result",
          "data": {
            "text/plain": [
              "3.0"
            ]
          },
          "metadata": {},
          "execution_count": 2
        }
      ],
      "source": [
        "import numpy as np\n",
        "\n",
        "numbers = [1,2,3,4,5]\n",
        "\n",
        "np.mean(numbers)\n"
      ]
    },
    {
      "cell_type": "code",
      "source": [
        "x = np.linspace(1,7,5)\n",
        "print(type(x))\n",
        "x\n"
      ],
      "metadata": {
        "colab": {
          "base_uri": "https://localhost:8080/"
        },
        "id": "pb8SrNFPrmIh",
        "outputId": "0ec55f51-40d4-49d3-a627-f9ad54681357"
      },
      "execution_count": 5,
      "outputs": [
        {
          "output_type": "stream",
          "name": "stdout",
          "text": [
            "<class 'numpy.ndarray'>\n"
          ]
        },
        {
          "output_type": "execute_result",
          "data": {
            "text/plain": [
              "array([1. , 2.5, 4. , 5.5, 7. ])"
            ]
          },
          "metadata": {},
          "execution_count": 5
        }
      ]
    },
    {
      "cell_type": "code",
      "source": [],
      "metadata": {
        "id": "bYZnrfPrDnbe"
      },
      "execution_count": null,
      "outputs": []
    },
    {
      "cell_type": "code",
      "source": [
        "numbers_np = np.array(numbers)\n",
        "print(type(numbers))\n",
        "print(type(numbers_np))\n",
        "\n",
        "# some numpy functions work on both list and np array, some on np array only"
      ],
      "metadata": {
        "colab": {
          "base_uri": "https://localhost:8080/"
        },
        "id": "Ee10mLmasDAF",
        "outputId": "d4312952-2ea4-4fbf-fb71-5806cb5b23fe"
      },
      "execution_count": 6,
      "outputs": [
        {
          "output_type": "stream",
          "name": "stdout",
          "text": [
            "<class 'list'>\n",
            "<class 'numpy.ndarray'>\n"
          ]
        }
      ]
    },
    {
      "cell_type": "code",
      "source": [
        "numbers_np.min()"
      ],
      "metadata": {
        "colab": {
          "base_uri": "https://localhost:8080/"
        },
        "id": "szfDJtBODopi",
        "outputId": "cde0d9f9-eb61-4367-d62e-58a771255535"
      },
      "execution_count": 8,
      "outputs": [
        {
          "output_type": "execute_result",
          "data": {
            "text/plain": [
              "1"
            ]
          },
          "metadata": {},
          "execution_count": 8
        }
      ]
    },
    {
      "cell_type": "code",
      "source": [
        "n = [ 4,3,2,6,7,1,8,5 ]\n",
        "nn = np.array(n)\n",
        "print(n)\n",
        "n.sort()\n",
        "print(n)\n",
        "\n",
        "print(nn)\n",
        "nn.sort()\n",
        "print(nn)"
      ],
      "metadata": {
        "colab": {
          "base_uri": "https://localhost:8080/"
        },
        "id": "U8kzmanoEm-S",
        "outputId": "7cd5cc6b-2c5a-427d-cb21-ebfc728c4720"
      },
      "execution_count": 13,
      "outputs": [
        {
          "output_type": "stream",
          "name": "stdout",
          "text": [
            "[4, 3, 2, 6, 7, 1, 8, 5]\n",
            "[1, 2, 3, 4, 5, 6, 7, 8]\n",
            "[4 3 2 6 7 1 8 5]\n",
            "[1 2 3 4 5 6 7 8]\n"
          ]
        }
      ]
    },
    {
      "cell_type": "code",
      "source": [
        "# outplace / inplace operations\n",
        "\n",
        "n = [ 4,3,2,6,7,1,8,5 ]\n",
        "nn = np.array(n)\n",
        "print(n)\n",
        "n.sort()\n",
        "print(n)\n",
        "\n",
        "print(nn)\n",
        "np.sort(nn)\n",
        "print(nn)"
      ],
      "metadata": {
        "colab": {
          "base_uri": "https://localhost:8080/"
        },
        "id": "vjdz_uH1FJ71",
        "outputId": "666afd36-57a4-49d7-fd49-c495db5038a5"
      },
      "execution_count": 14,
      "outputs": [
        {
          "output_type": "stream",
          "name": "stdout",
          "text": [
            "[4, 3, 2, 6, 7, 1, 8, 5]\n",
            "[1, 2, 3, 4, 5, 6, 7, 8]\n",
            "[4 3 2 6 7 1 8 5]\n",
            "[4 3 2 6 7 1 8 5]\n"
          ]
        }
      ]
    }
  ]
}