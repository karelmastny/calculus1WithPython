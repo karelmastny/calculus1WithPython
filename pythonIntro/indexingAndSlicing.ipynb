{
  "nbformat": 4,
  "nbformat_minor": 0,
  "metadata": {
    "colab": {
      "provenance": [],
      "authorship_tag": "ABX9TyNEaYVyT5udwzsmeHjTWDqO",
      "include_colab_link": true
    },
    "kernelspec": {
      "name": "python3",
      "display_name": "Python 3"
    },
    "language_info": {
      "name": "python"
    }
  },
  "cells": [
    {
      "cell_type": "markdown",
      "metadata": {
        "id": "view-in-github",
        "colab_type": "text"
      },
      "source": [
        "<a href=\"https://colab.research.google.com/github/karelmastny/calculus1WithPython/blob/main/pythonIntro/indexingAndSlicing.ipynb\" target=\"_parent\"><img src=\"https://colab.research.google.com/assets/colab-badge.svg\" alt=\"Open In Colab\"/></a>"
      ]
    },
    {
      "cell_type": "code",
      "execution_count": null,
      "metadata": {
        "id": "AyrwSPWI8jKf",
        "colab": {
          "base_uri": "https://localhost:8080/"
        },
        "outputId": "5f846dca-bef3-45f1-b0da-320db87d085d"
      },
      "outputs": [
        {
          "output_type": "stream",
          "name": "stdout",
          "text": [
            "20\n"
          ]
        },
        {
          "output_type": "execute_result",
          "data": {
            "text/plain": [
              "20"
            ]
          },
          "metadata": {},
          "execution_count": 13
        }
      ],
      "source": [
        "# indexing\n",
        "\n",
        "alist = [4,6,2,-6,[10,20,30], 10.1]\n",
        "\n",
        "blist = alist[4]\n",
        "print(blist[1])\n",
        "\n",
        "alist[4][1]"
      ]
    },
    {
      "cell_type": "code",
      "source": [],
      "metadata": {
        "id": "iEgHEaI4-yH_"
      },
      "execution_count": null,
      "outputs": []
    },
    {
      "cell_type": "code",
      "source": [
        "# Exercise\n",
        "# get penguiin\n",
        "\n",
        "listlist = [ 4, 'hi', [5,4,3], 'yo', {'Dog':'cute','Penguin':'Yummy'}]\n",
        "listlist[4]['Penguin']"
      ],
      "metadata": {
        "colab": {
          "base_uri": "https://localhost:8080/",
          "height": 35
        },
        "id": "UjOF9UKf-J5T",
        "outputId": "007b60d3-4a42-422d-d470-4dbfaa3f0557"
      },
      "execution_count": null,
      "outputs": [
        {
          "output_type": "execute_result",
          "data": {
            "text/plain": [
              "'Yummy'"
            ],
            "application/vnd.google.colaboratory.intrinsic+json": {
              "type": "string"
            }
          },
          "metadata": {},
          "execution_count": 17
        }
      ]
    },
    {
      "cell_type": "code",
      "source": [
        "# slicing\n",
        "# the upper range in range and slice is exclusive. the last int doesn't count\n",
        "\n",
        "a = list( range(5,11) )\n",
        "print(a)\n",
        "print(a[0:2] )\n",
        "print(a[::2])  # a[start:stop:skip]\n",
        "print(a[1::2])\n",
        "print(a[:])\n",
        "print(a[3:])\n",
        "\n"
      ],
      "metadata": {
        "colab": {
          "base_uri": "https://localhost:8080/"
        },
        "id": "JBbWSQ8u__X0",
        "outputId": "4bcbbe7b-fff1-4e99-edba-45d20ddc57e4"
      },
      "execution_count": null,
      "outputs": [
        {
          "output_type": "stream",
          "name": "stdout",
          "text": [
            "[5, 6, 7, 8, 9, 10]\n",
            "[5, 6]\n",
            "[5, 7, 9]\n",
            "[6, 8, 10]\n",
            "[5, 6, 7, 8, 9, 10]\n",
            "[8, 9, 10]\n"
          ]
        }
      ]
    },
    {
      "cell_type": "code",
      "source": [
        "# reverse a list\n",
        "\n",
        "a[::-1]"
      ],
      "metadata": {
        "colab": {
          "base_uri": "https://localhost:8080/"
        },
        "id": "rHuN13C3Bi8M",
        "outputId": "99baf271-0415-42b3-f248-fa95086a237f"
      },
      "execution_count": null,
      "outputs": [
        {
          "output_type": "execute_result",
          "data": {
            "text/plain": [
              "[10, 9, 8, 7, 6, 5]"
            ]
          },
          "metadata": {},
          "execution_count": 34
        }
      ]
    },
    {
      "cell_type": "code",
      "source": [
        "# exercise\n",
        "\n",
        "text = 'qwereqMike is a nice guy51q4zd'\n",
        "alist = list(text)\n",
        "blist = alist[::-1]\n",
        "blist[6:-6:]"
      ],
      "metadata": {
        "colab": {
          "base_uri": "https://localhost:8080/"
        },
        "id": "jHwGZJIYBC7r",
        "outputId": "4442bad0-3e7d-44e5-a10b-b9d7d6be4b78"
      },
      "execution_count": null,
      "outputs": [
        {
          "output_type": "execute_result",
          "data": {
            "text/plain": [
              "['y',\n",
              " 'u',\n",
              " 'g',\n",
              " ' ',\n",
              " 'e',\n",
              " 'c',\n",
              " 'i',\n",
              " 'n',\n",
              " ' ',\n",
              " 'a',\n",
              " ' ',\n",
              " 's',\n",
              " 'i',\n",
              " ' ',\n",
              " 'e',\n",
              " 'k',\n",
              " 'i',\n",
              " 'M']"
            ]
          },
          "metadata": {},
          "execution_count": 47
        }
      ]
    }
  ]
}