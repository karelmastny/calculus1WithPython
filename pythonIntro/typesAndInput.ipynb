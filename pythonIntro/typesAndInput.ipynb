{
  "nbformat": 4,
  "nbformat_minor": 0,
  "metadata": {
    "colab": {
      "provenance": [],
      "authorship_tag": "ABX9TyNjck8UuaJ8TSjuBWcKko6C",
      "include_colab_link": true
    },
    "kernelspec": {
      "name": "python3",
      "display_name": "Python 3"
    },
    "language_info": {
      "name": "python"
    }
  },
  "cells": [
    {
      "cell_type": "markdown",
      "metadata": {
        "id": "view-in-github",
        "colab_type": "text"
      },
      "source": [
        "<a href=\"https://colab.research.google.com/github/karelmastny/calculus1WithPython/blob/main/typesAndInput.ipynb\" target=\"_parent\"><img src=\"https://colab.research.google.com/assets/colab-badge.svg\" alt=\"Open In Colab\"/></a>"
      ]
    },
    {
      "cell_type": "code",
      "execution_count": null,
      "metadata": {
        "colab": {
          "base_uri": "https://localhost:8080/"
        },
        "id": "U9CQLEdW5vmx",
        "outputId": "2c88542c-1145-45cf-db07-2731f051cfab"
      },
      "outputs": [
        {
          "output_type": "execute_result",
          "data": {
            "text/plain": [
              "13"
            ]
          },
          "metadata": {},
          "execution_count": 2
        }
      ],
      "source": [
        "7+6"
      ]
    },
    {
      "cell_type": "code",
      "source": [
        "a = 4"
      ],
      "metadata": {
        "id": "18ojqkYV6Nm9"
      },
      "execution_count": null,
      "outputs": []
    },
    {
      "cell_type": "code",
      "source": [
        "b = 5"
      ],
      "metadata": {
        "id": "LKdKHYEL6U_S"
      },
      "execution_count": null,
      "outputs": []
    },
    {
      "cell_type": "code",
      "source": [
        "# comment\n",
        "print(a)\n",
        "b"
      ],
      "metadata": {
        "colab": {
          "base_uri": "https://localhost:8080/"
        },
        "id": "19YKz6IM6nqf",
        "outputId": "c380dbdd-1bdc-46fd-b68b-d764e802bcd6"
      },
      "execution_count": null,
      "outputs": [
        {
          "output_type": "stream",
          "name": "stdout",
          "text": [
            "9\n"
          ]
        },
        {
          "output_type": "execute_result",
          "data": {
            "text/plain": [
              "5"
            ]
          },
          "metadata": {},
          "execution_count": 16
        }
      ]
    },
    {
      "cell_type": "code",
      "source": [
        "c = 7\n",
        "d = 7.0\n",
        "e = 'Hello'\n",
        "\n",
        "type(e)"
      ],
      "metadata": {
        "colab": {
          "base_uri": "https://localhost:8080/"
        },
        "id": "Fb1LUtVE7IV_",
        "outputId": "8b00b920-4875-45ac-c1b7-f07fd55d421a"
      },
      "execution_count": null,
      "outputs": [
        {
          "output_type": "execute_result",
          "data": {
            "text/plain": [
              "str"
            ]
          },
          "metadata": {},
          "execution_count": 20
        }
      ]
    },
    {
      "cell_type": "code",
      "source": [
        "%whos"
      ],
      "metadata": {
        "colab": {
          "base_uri": "https://localhost:8080/"
        },
        "id": "dhAO7dop7m0P",
        "outputId": "1d9bcc31-f4a9-449c-eec3-ffa85a8f37f4"
      },
      "execution_count": null,
      "outputs": [
        {
          "output_type": "stream",
          "name": "stdout",
          "text": [
            "Variable   Type     Data/Info\n",
            "-----------------------------\n",
            "a          int      9\n",
            "b          int      5\n",
            "c          int      7\n",
            "d          float    7.0\n",
            "e          str      Hello\n"
          ]
        }
      ]
    },
    {
      "cell_type": "code",
      "source": [
        "# multiple assignment\n",
        "varA, varB = 3, 'test'"
      ],
      "metadata": {
        "id": "Z6y5Mvu98KpO"
      },
      "execution_count": null,
      "outputs": []
    },
    {
      "cell_type": "code",
      "source": [
        "varA = 'fdsa'\n",
        "varB = 4\n",
        "\n",
        "print(varA)\n",
        "print(varB)"
      ],
      "metadata": {
        "colab": {
          "base_uri": "https://localhost:8080/"
        },
        "id": "JyI1xnwc8fBg",
        "outputId": "af037e2f-d8eb-4c93-ae7e-376f42aee66e"
      },
      "execution_count": null,
      "outputs": [
        {
          "output_type": "stream",
          "name": "stdout",
          "text": [
            "fdsa\n",
            "4\n"
          ]
        }
      ]
    },
    {
      "cell_type": "code",
      "source": [
        "# Pythagorian theorem\n",
        "# c**2 = a**2 + b**2\n",
        "\n",
        "# get two inputs from user - side A and B. print c\n",
        "\n",
        "a = float(input('get me a: '))\n",
        "b = float(input('get me b: '))\n",
        "\n",
        "print('If a = ' + str(a) + \" and b = \" + str(b) + ' in a triangle, than c = ' + str((a**2 + b**2)**(1/2)))"
      ],
      "metadata": {
        "colab": {
          "base_uri": "https://localhost:8080/"
        },
        "id": "pPodAGrN_LsC",
        "outputId": "9264cf03-d124-4c93-f18d-a9fc8d3a2baa"
      },
      "execution_count": null,
      "outputs": [
        {
          "output_type": "stream",
          "name": "stdout",
          "text": [
            "get me a: 3\n",
            "get me b: 4\n",
            "If a = 3.0 and b = 4.0 in a triangle, than c = 5.0\n"
          ]
        }
      ]
    }
  ]
}
