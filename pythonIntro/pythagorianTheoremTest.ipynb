{
  "nbformat": 4,
  "nbformat_minor": 0,
  "metadata": {
    "colab": {
      "provenance": [],
      "authorship_tag": "ABX9TyN4fUeNmjmN6bHBTKo/5UVR",
      "include_colab_link": true
    },
    "kernelspec": {
      "name": "python3",
      "display_name": "Python 3"
    },
    "language_info": {
      "name": "python"
    }
  },
  "cells": [
    {
      "cell_type": "markdown",
      "metadata": {
        "id": "view-in-github",
        "colab_type": "text"
      },
      "source": [
        "<a href=\"https://colab.research.google.com/github/karelmastny/calculus1WithPython/blob/main/pythagorianTheoremTest.ipynb\" target=\"_parent\"><img src=\"https://colab.research.google.com/assets/colab-badge.svg\" alt=\"Open In Colab\"/></a>"
      ]
    },
    {
      "cell_type": "code",
      "execution_count": null,
      "metadata": {
        "colab": {
          "base_uri": "https://localhost:8080/"
        },
        "id": "DuPwknjAsGR-",
        "outputId": "018fb589-0739-45fa-ff52-3e4428d6c9fa"
      },
      "outputs": [
        {
          "output_type": "stream",
          "name": "stdout",
          "text": [
            "a = 3\n",
            "b = 3\n",
            "c = 4\n",
            "4^2 = 3^2 + 3^2 is False.\n"
          ]
        }
      ],
      "source": [
        "# Test of Pythagorian theorem\n",
        "\n",
        "a = input('a = ')\n",
        "b = input('b = ')\n",
        "c = input('c = ')\n",
        "\n",
        "ans = float(c)**2 == float(a)**2 + float(b)**2\n",
        "\n",
        "\n",
        "print( str(c) + '^2 = ' + str(a) + '^2 + ' + str(b) + '^2 is ' + str(ans) + '.')"
      ]
    }
  ]
}
